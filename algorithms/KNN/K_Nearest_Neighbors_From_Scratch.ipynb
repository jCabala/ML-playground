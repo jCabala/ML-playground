{
  "nbformat": 4,
  "nbformat_minor": 0,
  "metadata": {
    "colab": {
      "provenance": []
    },
    "kernelspec": {
      "name": "python3",
      "display_name": "Python 3"
    },
    "language_info": {
      "name": "python"
    }
  },
  "cells": [
    {
      "cell_type": "markdown",
      "source": [
        "# KNN Estimator\n"
      ],
      "metadata": {
        "id": "dVU0lnz0Rnuh"
      }
    },
    {
      "cell_type": "code",
      "source": [
        "import numpy as np\n",
        "import matplotlib.pyplot as plt\n",
        "from collections import Counter"
      ],
      "metadata": {
        "id": "3wKGvF2OK8IY"
      },
      "execution_count": 2,
      "outputs": []
    },
    {
      "cell_type": "code",
      "source": [
        "# Asm dim(p) == dim(q)\n",
        "def euc_dist(_p, _q):\n",
        "  p,q = np.array(_p), np.array(_q)\n",
        "  return np.sqrt(np.sum((p - q)**2))\n",
        "\n",
        "class KNN:\n",
        "  def __init__(self, k=3):\n",
        "    self.k = k\n",
        "    self.points = None\n",
        "\n",
        "  def fit(self, points):\n",
        "    self.points = points\n",
        "\n",
        "  def predict(self, new_points):\n",
        "    return list(map(self.__predict_one, new_points))\n",
        "\n",
        "  def __predict_one(self, new_point):\n",
        "    distances = []\n",
        "\n",
        "    for category in self.points:\n",
        "      for point in self.points[category]:\n",
        "        distance = euc_dist(point, new_point)\n",
        "        distances.append([distance, category])\n",
        "\n",
        "    categories = [category[1]\n",
        "                  for category in sorted(distances)[:self.k]]\n",
        "\n",
        "    return Counter(categories).most_common(1)[0][0]"
      ],
      "metadata": {
        "id": "VLbBvdStRisx"
      },
      "execution_count": 21,
      "outputs": []
    },
    {
      "cell_type": "markdown",
      "source": [
        "# 2D KNN Example\n"
      ],
      "metadata": {
        "id": "3f9ozJj_RjMO"
      }
    },
    {
      "cell_type": "code",
      "source": [
        "bluePoints = np.random.rand(20, 2) * 50\n",
        "redPoints = np.random.rand(20, 2) * 50\n",
        "\n",
        "testPoints = np.random.rand(20, 2) * 50\n",
        "trainPoints = {\"blue\": bluePoints, \"red\": redPoints}"
      ],
      "metadata": {
        "id": "9p38UKJoLbNz"
      },
      "execution_count": 7,
      "outputs": []
    },
    {
      "cell_type": "code",
      "source": [
        "def scatter_train():\n",
        "  plt.clf()\n",
        "  plt.scatter(bluePoints[:, 0], bluePoints[:, 1], color=\"blue\")\n",
        "  plt.scatter(redPoints[:, 0], redPoints[:, 1], color=\"red\")\n",
        "\n",
        "scatter_train()\n",
        "plt.scatter(testPoints[:, 0], testPoints[:, 1], color=\"green\")\n",
        "plt.show()"
      ],
      "metadata": {
        "id": "dxuOnnr8MMzs"
      },
      "execution_count": null,
      "outputs": []
    },
    {
      "cell_type": "code",
      "source": [
        "knn = KNN(k=4)\n",
        "knn.fit(trainPoints)\n",
        "pred_labels = knn.predict(testPoints)"
      ],
      "metadata": {
        "id": "wcFn2cyZh9QZ"
      },
      "execution_count": 49,
      "outputs": []
    },
    {
      "cell_type": "code",
      "source": [
        "zipPoints = list(zip(testPoints, pred_labels))\n",
        "\n",
        "def get_points_by_cat(cat):\n",
        "  return list(map(lambda pt : pt[0],\n",
        "              filter(lambda a : a[1] == cat, zipPoints)))\n",
        "\n",
        "pred_red_points = np.array(get_points_by_cat('red'))\n",
        "pred_blue_points = np.array(get_points_by_cat('blue'))\n",
        "\n",
        "scatter_train()\n",
        "plt.scatter(pred_red_points[:, 0], pred_red_points[:, 1],\n",
        "            color=\"red\", marker=\"x\")\n",
        "plt.scatter(pred_blue_points[:, 0], pred_blue_points[:, 1],\n",
        "            color=\"blue\", marker=\"x\")\n",
        "plt.show()"
      ],
      "metadata": {
        "id": "df5kYVGXiS6l"
      },
      "execution_count": null,
      "outputs": []
    }
  ]
}